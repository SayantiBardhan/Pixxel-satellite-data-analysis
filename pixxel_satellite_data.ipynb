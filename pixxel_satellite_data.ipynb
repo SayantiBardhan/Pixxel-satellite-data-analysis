{
  "nbformat": 4,
  "nbformat_minor": 0,
  "metadata": {
    "colab": {
      "name": "pyspark_setup_and_run.ipynb",
      "provenance": [],
      "collapsed_sections": [],
      "toc_visible": true
    },
    "kernelspec": {
      "name": "python3",
      "display_name": "Python 3"
    }
  },
  "cells": [
    {
      "cell_type": "code",
      "metadata": {
        "colab": {
          "base_uri": "https://localhost:8080/"
        },
        "id": "uRqgupTSBDNw",
        "outputId": "37bb44d3-bd45-43fe-a8d7-2532f2797e72"
      },
      "source": [
        "from google.colab import drive\r\n",
        "drive.mount('/content/drive')"
      ],
      "execution_count": null,
      "outputs": [
        {
          "output_type": "stream",
          "text": [
            "Drive already mounted at /content/drive; to attempt to forcibly remount, call drive.mount(\"/content/drive\", force_remount=True).\n"
          ],
          "name": "stdout"
        }
      ]
    },
    {
      "cell_type": "code",
      "metadata": {
        "id": "3Ngf0lsJB_mh"
      },
      "source": [
        "import os\r\n",
        "os.chdir('/content/drive/MyDrive')"
      ],
      "execution_count": null,
      "outputs": []
    },
    {
      "cell_type": "markdown",
      "metadata": {
        "id": "nR5ELKzRiNdf"
      },
      "source": [
        "Input Image Data using Python"
      ]
    },
    {
      "cell_type": "code",
      "metadata": {
        "colab": {
          "base_uri": "https://localhost:8080/"
        },
        "id": "qd2eSEtKiRJl",
        "outputId": "1804be3e-cf00-4117-965d-5fa8f7da4e8e"
      },
      "source": [
        "import cv2\r\n",
        "from os import listdir\r\n",
        "import os\r\n",
        "from PIL import Image as PImage\r\n",
        "import numpy as np\r\n",
        "import pandas as pd\r\n",
        "from sklearn.decomposition import PCA\r\n",
        "image_num = 1000\r\n",
        "factor = 2\r\n",
        "\r\n",
        "# Function to load the images one by one from source location\r\n",
        "def loadImages(path,image_num):\r\n",
        "    # return array of images\r\n",
        "    imagesList = listdir(path)\r\n",
        "    loadedImages = []\r\n",
        "    count=0\r\n",
        "    for image in imagesList[0:min(len(imagesList),image_num)]:\r\n",
        "      img = PImage.open(path +'/'+ image)\r\n",
        "      if count == 0:\r\n",
        "        print(img.size)\r\n",
        "      # Resizing the image by defined factor to control data volume\r\n",
        "      img = img.resize((int(img.size[1]/factor), int(img.size[0]/factor)))\r\n",
        "      img = np.array(img)\r\n",
        "      if count == 0:\r\n",
        "        print(img.shape)\r\n",
        "      # Flattening the images\r\n",
        "      img = img.reshape(img.shape[0]*img.shape[1])\r\n",
        "      loadedImages.append(img)\r\n",
        "      count = count + 1\r\n",
        "\r\n",
        "    return loadedImages\r\n",
        "\r\n",
        "# Defining image path\r\n",
        "path = \"/content/drive/MyDrive/Pixxel_Work/110KU_images\"\r\n",
        "\r\n",
        "# your images in an array\r\n",
        "imgs = loadImages(path, image_num)"
      ],
      "execution_count": null,
      "outputs": [
        {
          "output_type": "stream",
          "text": [
            "(1191, 3441)\n",
            "(595, 1720)\n"
          ],
          "name": "stdout"
        }
      ]
    },
    {
      "cell_type": "code",
      "metadata": {
        "colab": {
          "base_uri": "https://localhost:8080/"
        },
        "id": "mtI-M9Om_05O",
        "outputId": "6af632fd-23ff-4e38-b3a2-91278273b61b"
      },
      "source": [
        "sum=0\r\n",
        "print(len(imgs[0]))\r\n",
        "for i in range(len(imgs[0])):\r\n",
        "  sum=sum+imgs[0][i]\r\n",
        "print(sum)"
      ],
      "execution_count": null,
      "outputs": [
        {
          "output_type": "stream",
          "text": [
            "1023400\n",
            "315681\n"
          ],
          "name": "stdout"
        }
      ]
    },
    {
      "cell_type": "code",
      "metadata": {
        "id": "zu5hQv68Ak5d"
      },
      "source": [
        "# Converting list into numpy array\r\n",
        "imgs_np = np.array(imgs)"
      ],
      "execution_count": null,
      "outputs": []
    },
    {
      "cell_type": "code",
      "metadata": {
        "colab": {
          "base_uri": "https://localhost:8080/"
        },
        "id": "4qGRJSuyEECr",
        "outputId": "c01cb65b-5ca1-4b45-f49b-1b4a45dfe43f"
      },
      "source": [
        "print(imgs_np.shape)\r\n",
        "print(imgs_np)"
      ],
      "execution_count": null,
      "outputs": [
        {
          "output_type": "stream",
          "text": [
            "(242, 1023400)\n",
            "[[0 0 0 ... 0 0 0]\n",
            " [0 0 0 ... 0 0 0]\n",
            " [0 0 0 ... 0 0 0]\n",
            " ...\n",
            " [0 0 0 ... 0 0 0]\n",
            " [0 0 0 ... 0 0 0]\n",
            " [0 0 0 ... 0 0 0]]\n"
          ],
          "name": "stdout"
        }
      ]
    },
    {
      "cell_type": "code",
      "metadata": {
        "colab": {
          "base_uri": "https://localhost:8080/"
        },
        "id": "qerQTWDAkCCh",
        "outputId": "9f38ad47-8442-4eaa-857c-63c7668135a0"
      },
      "source": [
        "# Performing PCA\r\n",
        "from sklearn.decomposition import PCA\r\n",
        "variance = .98\r\n",
        "pca = PCA(variance)\r\n",
        "pca.fit(imgs_np)\r\n",
        "print(\"Number of components after PCA 98% = \" + str(pca.n_components_))\r\n",
        "\r\n",
        "# Transforming dataframe as per PCA\r\n",
        "pca_data = pca.transform(imgs_np)\r\n",
        "print(\"Dimension of our data after PCA = \" + str(pca_data.shape))"
      ],
      "execution_count": null,
      "outputs": [
        {
          "output_type": "stream",
          "text": [
            "Number of components after PCA 98% = 2\n",
            "Dimension of our data after PCA = (242, 2)\n"
          ],
          "name": "stdout"
        }
      ]
    },
    {
      "cell_type": "code",
      "metadata": {
        "colab": {
          "base_uri": "https://localhost:8080/"
        },
        "id": "OPWJLzH9nO3e",
        "outputId": "b31618c0-e563-40a4-8152-cec60045e3e5"
      },
      "source": [
        "pca_df = pd.DataFrame(pca_data)\r\n",
        "print(pca_df.shape)"
      ],
      "execution_count": null,
      "outputs": [
        {
          "output_type": "stream",
          "text": [
            "(242, 2)\n"
          ],
          "name": "stdout"
        }
      ]
    },
    {
      "cell_type": "code",
      "metadata": {
        "id": "3vUKEzeBkCQv"
      },
      "source": [
        "# Running K means cluster\r\n",
        "import matplotlib.pyplot as plt\r\n",
        "%matplotlib inline \r\n",
        "from sklearn.cluster import KMeans\r\n",
        "distortions = []\r\n",
        "K = range(1,10)\r\n",
        "for k in K:\r\n",
        "    kmeanModel = KMeans(n_clusters=k)\r\n",
        "    kmeanModel.fit(pca_df)\r\n",
        "    distortions.append(kmeanModel.inertia_)\r\n"
      ],
      "execution_count": null,
      "outputs": []
    },
    {
      "cell_type": "code",
      "metadata": {
        "colab": {
          "base_uri": "https://localhost:8080/",
          "height": 512
        },
        "id": "aJaCmB2PkCXs",
        "outputId": "ad36901e-7601-4e46-98b1-31ea30061666"
      },
      "source": [
        "# Determining k for k means by elbow method\r\n",
        "plt.figure(figsize=(16,8))\r\n",
        "plt.plot(K, distortions, 'bx-')\r\n",
        "plt.xlabel('k')\r\n",
        "plt.ylabel('Distortion')\r\n",
        "plt.title('The Elbow Method showing the optimal k')\r\n",
        "plt.show()"
      ],
      "execution_count": null,
      "outputs": [
        {
          "output_type": "display_data",
          "data": {
            "image/png": "[encoded data removed]",
            "text/plain": [
              "<Figure size 1152x576 with 1 Axes>"
            ]
          },
          "metadata": {
            "tags": [],
            "needs_background": "light"
          }
        }
      ]
    },
    {
      "cell_type": "code",
      "metadata": {
        "colab": {
          "base_uri": "https://localhost:8080/",
          "height": 497
        },
        "id": "jzjAlFsInzsA",
        "outputId": "98f743aa-bbbc-4356-bc8a-ab3801242f3e"
      },
      "source": [
        "# Final Clustering\r\n",
        "cluster_size = 3\r\n",
        "kmeanModel = KMeans(n_clusters=cluster_size)\r\n",
        "kmeanModel.fit(pca_df)\r\n",
        "\r\n",
        "# Plot clusters\r\n",
        "pca_df['k_means']=kmeanModel.predict(pca_df)\r\n",
        "plt.figure(figsize=(16,8))\r\n",
        "plt.scatter(pca_df[0], pca_df[1], c=pca_df['k_means'],cmap=plt.cm.Set1)\r\n",
        "plt.xlabel('Feature 1')\r\n",
        "plt.ylabel('Feature 2')\r\n",
        "plt.title('Distribution of classes')\r\n",
        "plt.show()"
      ],
      "execution_count": null,
      "outputs": [
        {
          "output_type": "display_data",
          "data": {
            "image/png": "[encoded data removed]",
            "text/plain": [
              "<Figure size 1152x576 with 1 Axes>"
            ]
          },
          "metadata": {
            "tags": [],
            "needs_background": "light"
          }
        }
      ]
    },
    {
      "cell_type": "markdown",
      "metadata": {
        "id": "hucaDcnd_KKc"
      },
      "source": [
        "# **Running Code for 110Kt dataset**"
      ]
    },
    {
      "cell_type": "code",
      "metadata": {
        "id": "FJ_t2yL-60N5"
      },
      "source": [
        "import cv2\r\n",
        "from os import listdir\r\n",
        "import os\r\n",
        "from PIL import Image as PImage\r\n",
        "import numpy as np\r\n",
        "import pandas as pd\r\n",
        "from sklearn.decomposition import PCA\r\n",
        "image_num = 1000\r\n",
        "factor = 2\r\n",
        "\r\n",
        "# Function to load the images one by one from source location\r\n",
        "def loadImages(path,image_num):\r\n",
        "    # return array of images\r\n",
        "    imagesList = listdir(path)\r\n",
        "    loadedImages = []\r\n",
        "    count=0\r\n",
        "    for image in imagesList[0:min(len(imagesList),image_num)]:\r\n",
        "      img = PImage.open(path +'/'+ image)\r\n",
        "      if count == 0:\r\n",
        "        print(img.size)\r\n",
        "      # Resizing the image by defined factor to control data volume\r\n",
        "      img = img.resize((int(img.size[1]/factor), int(img.size[0]/factor)))\r\n",
        "      img = np.array(img)\r\n",
        "      if count == 0:\r\n",
        "        print(img.shape)\r\n",
        "      # Flattening the images\r\n",
        "      img = img.reshape(img.shape[0]*img.shape[1])\r\n",
        "      loadedImages.append(img)\r\n",
        "      count = count + 1\r\n",
        "\r\n",
        "    return loadedImages\r\n",
        "\r\n",
        "# Defining image path\r\n",
        "path = \"/content/drive/MyDrive/Pixxel_Work/110Kt_images\"\r\n",
        "\r\n",
        "# your images in an array\r\n",
        "imgs = loadImages(path, image_num)\r\n",
        "\r\n",
        "# Converting list into numpy array\r\n",
        "imgs_np = np.array(imgs)\r\n",
        "\r\n",
        "print(imgs_np.shape)\r\n",
        "print(imgs_np)"
      ],
      "execution_count": null,
      "outputs": []
    },
    {
      "cell_type": "code",
      "metadata": {
        "colab": {
          "base_uri": "https://localhost:8080/"
        },
        "id": "dTuNPI1ZAhlx",
        "outputId": "91ac6d8d-6bf8-48a0-9ce4-73552b314e06"
      },
      "source": [
        "# Perform PCA\r\n",
        "from sklearn.decomposition import PCA\r\n",
        "variance = 0.98\r\n",
        "pca = PCA(variance)\r\n",
        "pca.fit(imgs_np)\r\n",
        "print(\"Number of components after PCA 0.98 = \" + str(pca.n_components_))\r\n",
        "\r\n",
        "# Transform dataframe as per PCA\r\n",
        "pca_data = pca.transform(imgs_np)\r\n",
        "print(\"Dimension of our data after PCA = \" + str(pca_data.shape))\r\n",
        "\r\n",
        "pca_df = pd.DataFrame(pca_data)\r\n",
        "print(pca_df.shape)"
      ],
      "execution_count": null,
      "outputs": [
        {
          "output_type": "stream",
          "text": [
            "Number of components after PCA 0.98 = 1\n",
            "Dimension of our data after PCA = (100, 1)\n",
            "(100, 1)\n"
          ],
          "name": "stdout"
        }
      ]
    },
    {
      "cell_type": "code",
      "metadata": {
        "colab": {
          "base_uri": "https://localhost:8080/",
          "height": 513
        },
        "id": "yLl4E3-IAixO",
        "outputId": "260b694b-81a2-4434-b412-5c5d23baec35"
      },
      "source": [
        "# Running K means cluster\r\n",
        "import matplotlib.pyplot as plt\r\n",
        "%matplotlib inline \r\n",
        "from sklearn.cluster import KMeans\r\n",
        "distortions = []\r\n",
        "K = range(1,10)\r\n",
        "for k in K:\r\n",
        "    kmeanModel = KMeans(n_clusters=k)\r\n",
        "    kmeanModel.fit(pca_df)\r\n",
        "    distortions.append(kmeanModel.inertia_)\r\n",
        "\r\n",
        "# Plot PCA graph\r\n",
        "plt.figure(figsize=(16,8))\r\n",
        "plt.plot(K, distortions, 'bx-')\r\n",
        "plt.xlabel('k')\r\n",
        "plt.ylabel('Distortion')\r\n",
        "plt.title('The Elbow Method showing the optimal k')\r\n",
        "plt.show()"
      ],
      "execution_count": null,
      "outputs": [
        {
          "output_type": "display_data",
          "data": {
            "image/png": "[encoded data removed]",
            "text/plain": [
              "<Figure size 1152x576 with 1 Axes>"
            ]
          },
          "metadata": {
            "tags": [],
            "needs_background": "light"
          }
        }
      ]
    },
    {
      "cell_type": "code",
      "metadata": {
        "id": "kGFDHBFVDHcY"
      },
      "source": [
        "# Final Clustering\r\n",
        "kmeanModel = KMeans(n_clusters=2)\r\n",
        "kmeanModel.fit(pca_df)\r\n",
        "\r\n",
        "print(pca_df.head(5))\r\n",
        "# Plot clustering\r\n",
        "pca_df['k_means']=kmeanModel.predict(pca_df)\r\n",
        "plt.figure(figsize=(16,8))\r\n",
        "plt.scatter(pca_df[0], c=pca_df['k_means'])\r\n",
        "plt.xlabel('Feature 1')\r\n",
        "plt.ylabel('Feature 2')\r\n",
        "plt.title('Distribution of classes')\r\n",
        "plt.show()"
      ],
      "execution_count": null,
      "outputs": []
    },
    {
      "cell_type": "markdown",
      "metadata": {
        "id": "9rnQMmGwCYjC"
      },
      "source": [
        "# Running Code for 110PZ dataset"
      ]
    },
    {
      "cell_type": "code",
      "metadata": {
        "colab": {
          "base_uri": "https://localhost:8080/"
        },
        "id": "pigwc1PcCh15",
        "outputId": "ee92d064-99cb-44dd-d0e1-7bb46ac97b68"
      },
      "source": [
        "from google.colab import drive\r\n",
        "drive.mount('/content/drive')\r\n",
        "\r\n",
        "import os\r\n",
        "os.chdir('/content/drive/MyDrive/')\r\n",
        "\r\n",
        "import cv2\r\n",
        "from os import listdir\r\n",
        "from PIL import Image as PImage\r\n",
        "import numpy as np\r\n",
        "import pandas as pd\r\n",
        "from sklearn.decomposition import PCA\r\n",
        "\r\n",
        "\r\n",
        "def loadImages(path,image_num):\r\n",
        "    # return array of images\r\n",
        "    imagesList = listdir(path)\r\n",
        "    loadedImages = []\r\n",
        "    count=0\r\n",
        "    for image in imagesList[0:min(len(imagesList),image_num)]:\r\n",
        "      img = PImage.open(path +'/'+ image)\r\n",
        "      if count == 0:\r\n",
        "        print(img.size)\r\n",
        "      img = img.resize((int(img.size[1]/factor), int(img.size[0]/factor)))\r\n",
        "      #img.thumbnail(maxsize)\r\n",
        "      img = np.array(img)\r\n",
        "      if count == 0:\r\n",
        "        print(img.shape)\r\n",
        "      img = img.reshape(img.shape[0]*img.shape[1])\r\n",
        "      loadedImages.append(img)\r\n",
        "      count = count + 1\r\n",
        "\r\n",
        "    return loadedImages\r\n",
        "\r\n",
        "\r\n",
        "image_num = 100\r\n",
        "factor = 2\r\n",
        "path = \"/content/drive/MyDrive/Pixxel_Work/110Kt_images/\"\r\n",
        "\r\n",
        "# your images in an array\r\n",
        "imgs = loadImages(path, image_num)\r\n",
        "\r\n",
        "# Test the output\r\n",
        "sum=0\r\n",
        "print(len(imgs[0]))\r\n",
        "for i in range(len(imgs[0])):\r\n",
        "  sum=sum+imgs[0][i]\r\n",
        "print(sum)\r\n",
        "\r\n",
        "# Create numpy array \r\n",
        "imgs_np = np.array(imgs)\r\n",
        "print(imgs_np.shape)\r\n",
        "print(imgs_np)"
      ],
      "execution_count": null,
      "outputs": [
        {
          "output_type": "stream",
          "text": [
            "Drive already mounted at /content/drive; to attempt to forcibly remount, call drive.mount(\"/content/drive\", force_remount=True).\n",
            "(1061, 3521)\n",
            "(530, 1760)\n",
            "932800\n",
            "316262\n",
            "(100, 932800)\n",
            "[[0 0 0 ... 0 0 0]\n",
            " [0 0 0 ... 0 0 0]\n",
            " [0 0 0 ... 0 0 0]\n",
            " ...\n",
            " [0 0 0 ... 0 0 0]\n",
            " [0 0 0 ... 0 0 0]\n",
            " [0 0 0 ... 0 0 0]]\n"
          ],
          "name": "stdout"
        }
      ]
    },
    {
      "cell_type": "code",
      "metadata": {
        "colab": {
          "base_uri": "https://localhost:8080/"
        },
        "id": "t6D8vPA8Ch_w",
        "outputId": "1897c7fc-2890-4db1-fba1-f48d664772ff"
      },
      "source": [
        "# Perform PCA\r\n",
        "from sklearn.decomposition import PCA\r\n",
        "variance = 0.98\r\n",
        "pca = PCA(variance)\r\n",
        "pca.fit(imgs_np)\r\n",
        "print(\"Number of components after PCA 0.98 = \" + str(pca.n_components_))\r\n",
        "\r\n",
        "# Transform dataframe as per PCA\r\n",
        "pca_data = pca.transform(imgs_np)\r\n",
        "print(\"Dimension of our data after PCA = \" + str(pca_data.shape))\r\n",
        "\r\n",
        "pca_df = pd.DataFrame(pca_data)\r\n",
        "print(pca_df.shape)"
      ],
      "execution_count": null,
      "outputs": [
        {
          "output_type": "stream",
          "text": [
            "Number of components after PCA 0.98 = 1\n",
            "Dimension of our data after PCA = (100, 1)\n",
            "(100, 1)\n"
          ],
          "name": "stdout"
        }
      ]
    },
    {
      "cell_type": "code",
      "metadata": {
        "colab": {
          "base_uri": "https://localhost:8080/",
          "height": 513
        },
        "id": "3atj-RI8CiC6",
        "outputId": "9300cb90-4583-4084-eeaa-11ae217f4a42"
      },
      "source": [
        "# Running K means cluster\r\n",
        "import matplotlib.pyplot as plt\r\n",
        "%matplotlib inline \r\n",
        "from sklearn.cluster import KMeans\r\n",
        "distortions = []\r\n",
        "K = range(1,10)\r\n",
        "for k in K:\r\n",
        "    kmeanModel = KMeans(n_clusters=k)\r\n",
        "    kmeanModel.fit(pca_df)\r\n",
        "    distortions.append(kmeanModel.inertia_)\r\n",
        "\r\n",
        "# Plot PCA graph\r\n",
        "plt.figure(figsize=(16,8))\r\n",
        "plt.plot(K, distortions, 'bx-')\r\n",
        "plt.xlabel('k')\r\n",
        "plt.ylabel('Distortion')\r\n",
        "plt.title('The Elbow Method showing the optimal k')\r\n",
        "plt.show()"
      ],
      "execution_count": null,
      "outputs": [
        {
          "output_type": "display_data",
          "data": {
            "image/png": "[encoded data removed]",
            "text/plain": [
              "<Figure size 1152x576 with 1 Axes>"
            ]
          },
          "metadata": {
            "tags": [],
            "needs_background": "light"
          }
        }
      ]
    },
    {
      "cell_type": "code",
      "metadata": {
        "id": "W5FCipl5CiMz"
      },
      "source": [
        "# Final Clustering\r\n",
        "kmeanModel = KMeans(n_clusters=2)\r\n",
        "kmeanModel.fit(pca_df)\r\n",
        "\r\n",
        "# Plot clustering\r\n",
        "pca_df['k_means']=kmeanModel.predict(pca_df)\r\n",
        "plt.figure(figsize=(16,8))\r\n",
        "plt.scatter(pca_df[0], pca_df[1], c=pca_df['k_means'],cmap=plt.cm.Set1)\r\n",
        "plt.xlabel('Feature 1')\r\n",
        "plt.ylabel('Feature 2')\r\n",
        "plt.title('Distribution of classes')\r\n",
        "plt.show()"
      ],
      "execution_count": null,
      "outputs": []
    },
    {
      "cell_type": "code",
      "metadata": {
        "id": "X9sZyxULEVSR"
      },
      "source": [
        "#df = pd.DataFrame(imgs_np)\r\n",
        "#rdd = spark.sparkContext.parallelize(imgs_np)"
      ],
      "execution_count": null,
      "outputs": []
    },
    {
      "cell_type": "code",
      "metadata": {
        "id": "Z6lLGcQThDvM"
      },
      "source": [
        "#spark_df = spark.createDataFrame(df)"
      ],
      "execution_count": null,
      "outputs": []
    }
  ]
}