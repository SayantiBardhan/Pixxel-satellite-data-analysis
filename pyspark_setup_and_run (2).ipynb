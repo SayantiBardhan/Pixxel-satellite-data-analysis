{
  "nbformat": 4,
  "nbformat_minor": 0,
  "metadata": {
    "colab": {
      "name": "pyspark_setup_and_run.ipynb",
      "provenance": [],
      "collapsed_sections": [],
      "toc_visible": true
    },
    "kernelspec": {
      "name": "python3",
      "display_name": "Python 3"
    }
  },
  "cells": [
    {
      "cell_type": "code",
      "metadata": {
        "colab": {
          "base_uri": "https://localhost:8080/"
        },
        "id": "uRqgupTSBDNw",
        "outputId": "19e6b652-ada2-47e1-9ebc-9d852337c435"
      },
      "source": [
        "from google.colab import drive\r\n",
        "drive.mount('/content/drive')"
      ],
      "execution_count": null,
      "outputs": [
        {
          "output_type": "stream",
          "text": [
            "Drive already mounted at /content/drive; to attempt to forcibly remount, call drive.mount(\"/content/drive\", force_remount=True).\n"
          ],
          "name": "stdout"
        }
      ]
    },
    {
      "cell_type": "code",
      "metadata": {
        "id": "3Ngf0lsJB_mh"
      },
      "source": [
        "import os\r\n",
        "os.chdir('/content/drive/MyDrive/PySpark_Config')"
      ],
      "execution_count": null,
      "outputs": []
    },
    {
      "cell_type": "markdown",
      "metadata": {
        "id": "qYIUjbSVCIQ4"
      },
      "source": [
        "Setup PySpark in Google Colab"
      ]
    },
    {
      "cell_type": "code",
      "metadata": {
        "id": "ZTao1AIcCNeP"
      },
      "source": [
        "!apt-get install openjdk-8-jdk-headless -qq > /dev/null"
      ],
      "execution_count": null,
      "outputs": []
    },
    {
      "cell_type": "code",
      "metadata": {
        "id": "bZR5Wa32CZFu"
      },
      "source": [
        "!wget -q https://www-us.apache.org/dist/spark/spark-3.0.1/spark-3.0.1-bin-hadoop2.7.tgz"
      ],
      "execution_count": null,
      "outputs": []
    },
    {
      "cell_type": "code",
      "metadata": {
        "id": "4qoVtcbnCvD4"
      },
      "source": [
        "!tar xf spark-3.0.1-bin-hadoop2.7.tgz"
      ],
      "execution_count": null,
      "outputs": []
    },
    {
      "cell_type": "code",
      "metadata": {
        "id": "C_HxnZHpC7kT"
      },
      "source": [
        "!pip install -q findspark"
      ],
      "execution_count": null,
      "outputs": []
    },
    {
      "cell_type": "markdown",
      "metadata": {
        "id": "6ntxWYdyDX8w"
      },
      "source": [
        "Configuration & Testing"
      ]
    },
    {
      "cell_type": "code",
      "metadata": {
        "id": "qGWrkEyXDfZv"
      },
      "source": [
        "import os\r\n",
        "os.environ[\"JAVA_HOME\"] = \"/usr/lib/jvm/java-8-openjdk-amd64\"\r\n",
        "os.environ[\"SPARK_HOME\"] = \"/content/drive/MyDrive/PySpark_Config/spark-3.0.1-bin-hadoop2.7\""
      ],
      "execution_count": null,
      "outputs": []
    },
    {
      "cell_type": "code",
      "metadata": {
        "id": "o5zvT0_wDjw7"
      },
      "source": [
        "import findspark\r\n",
        "findspark.init()"
      ],
      "execution_count": null,
      "outputs": []
    },
    {
      "cell_type": "code",
      "metadata": {
        "colab": {
          "base_uri": "https://localhost:8080/",
          "height": 35
        },
        "id": "ycLgtd0KFZmc",
        "outputId": "d95bcecc-f96a-445e-d578-c1193e574f9d"
      },
      "source": [
        "findspark.find()"
      ],
      "execution_count": null,
      "outputs": [
        {
          "output_type": "execute_result",
          "data": {
            "application/vnd.google.colaboratory.intrinsic+json": {
              "type": "string"
            },
            "text/plain": [
              "'/content/drive/MyDrive/PySpark_Config/spark-3.0.1-bin-hadoop2.7'"
            ]
          },
          "metadata": {
            "tags": []
          },
          "execution_count": 27
        }
      ]
    },
    {
      "cell_type": "code",
      "metadata": {
        "id": "MRGzQhhkxTHn"
      },
      "source": [
        "#spark.stop()"
      ],
      "execution_count": null,
      "outputs": []
    },
    {
      "cell_type": "code",
      "metadata": {
        "colab": {
          "base_uri": "https://localhost:8080/",
          "height": 129
        },
        "id": "JLd5BLxdFeYk",
        "outputId": "88188df5-4b9d-410d-a400-dcb94063315a"
      },
      "source": [
        "from pyspark.sql import SparkSession\r\n",
        "import pyspark\r\n",
        "conf = pyspark.SparkConf().setAll([('spark.executor.memory', '5g'), ('spark.cores.max', '3'), ('spark.driver.memory','5g'), ('spark.ui.port', '4050'),\r\n",
        "                                   (\"spark.sql.autoBroadcastJoinThreshold\", \"-1\"),\r\n",
        "                                   (\"ConcGCThreads\", \"20\"), (\"InitiatingHeapOcuupancyPercent\", \"35\"),\r\n",
        "                                   (\"spark.storage.memoryFraction\",\"0.4\"), (\"spark.shuffle.memoryFraction\", \"0.2\"),\r\n",
        "                                   (\"spark.executor.extraJavaOptions\", \"-XX:-UseGCOverheadLimit\")])\r\n",
        "#spark = SparkSession.builder\\\r\n",
        "        .master(\"local\")\\\r\n",
        "        .appName(\"Colab\")\\\r\n",
        "        .config(conf=conf)\\\r\n",
        "        .getOrCreate()\r\n",
        "        #.config('spark.ui.port', '4050')\\\r\n",
        "        \r\n",
        "        \r\n",
        "\r\n",
        "spark.sparkContext._conf.getAll()\r\n"
      ],
      "execution_count": null,
      "outputs": [
        {
          "output_type": "error",
          "ename": "IndentationError",
          "evalue": "ignored",
          "traceback": [
            "\u001b[0;36m  File \u001b[0;32m\"<ipython-input-29-52571c374999>\"\u001b[0;36m, line \u001b[0;32m9\u001b[0m\n\u001b[0;31m    .master(\"local\")        .appName(\"Colab\")        .config(conf=conf)        .getOrCreate()\u001b[0m\n\u001b[0m    ^\u001b[0m\n\u001b[0;31mIndentationError\u001b[0m\u001b[0;31m:\u001b[0m unexpected indent\n"
          ]
        }
      ]
    },
    {
      "cell_type": "code",
      "metadata": {
        "id": "GXzz0AK7FqEy"
      },
      "source": [
        "# This is for Spark UI\r\n",
        "# !wget https://bin.equinox.io/c/4VmDzA7iaHb/ngrok-stable-linux-amd64.zip\r\n",
        "# !unzip ngrok-stable-linux-amd64.zip\r\n",
        "# get_ipython().system_raw('./ngrok http 4050 &')\r\n",
        "# !curl -s http://localhost:4040/api/tunnels"
      ],
      "execution_count": null,
      "outputs": []
    },
    {
      "cell_type": "markdown",
      "metadata": {
        "id": "nR5ELKzRiNdf"
      },
      "source": [
        "Input Image Data using Python"
      ]
    },
    {
      "cell_type": "code",
      "metadata": {
        "colab": {
          "base_uri": "https://localhost:8080/"
        },
        "id": "qd2eSEtKiRJl",
        "outputId": "aab97932-2ae4-45b2-9bed-a495d205ca3d"
      },
      "source": [
        "import cv2\r\n",
        "from os import listdir\r\n",
        "from PIL import Image as PImage\r\n",
        "import numpy as np\r\n",
        "import pandas as pd\r\n",
        "from sklearn.decomposition import PCA\r\n",
        "image_num = 100\r\n",
        "factor = 2\r\n",
        "def loadImages(path,image_num):\r\n",
        "    # return array of images\r\n",
        "    imagesList = listdir(path)\r\n",
        "    loadedImages = []\r\n",
        "    count=0\r\n",
        "    for image in imagesList[0:min(len(imagesList),image_num)]:\r\n",
        "      img = PImage.open(path +'/'+ image)\r\n",
        "      if count == 0:\r\n",
        "        print(img.size)\r\n",
        "      img = img.resize((int(img.size[1]/factor), int(img.size[0]/factor)))\r\n",
        "      #img.thumbnail(maxsize)\r\n",
        "      img = np.array(img)\r\n",
        "      if count == 0:\r\n",
        "        print(img.shape)\r\n",
        "      img = img.reshape(img.shape[0]*img.shape[1])\r\n",
        "      loadedImages.append(img)\r\n",
        "      count = count + 1\r\n",
        "\r\n",
        "    return loadedImages\r\n",
        "\r\n",
        "\r\n",
        "path = \"/content/drive/MyDrive/Pixxel_Work\"\r\n",
        "\r\n",
        "# your images in an array\r\n",
        "imgs = loadImages(path, image_num)"
      ],
      "execution_count": null,
      "outputs": [
        {
          "output_type": "stream",
          "text": [
            "(1191, 3441)\n",
            "(595, 1720)\n"
          ],
          "name": "stdout"
        }
      ]
    },
    {
      "cell_type": "code",
      "metadata": {
        "colab": {
          "base_uri": "https://localhost:8080/"
        },
        "id": "mtI-M9Om_05O",
        "outputId": "65fbeb3e-13ec-48ed-fd24-dfa2aa7f5ede"
      },
      "source": [
        "sum=0\r\n",
        "print(len(imgs[0]))\r\n",
        "for i in range(len(imgs[0])):\r\n",
        "  sum=sum+imgs[0][i]\r\n",
        "print(sum)"
      ],
      "execution_count": null,
      "outputs": [
        {
          "output_type": "stream",
          "text": [
            "1023400\n",
            "243028554\n"
          ],
          "name": "stdout"
        }
      ]
    },
    {
      "cell_type": "code",
      "metadata": {
        "id": "zu5hQv68Ak5d"
      },
      "source": [
        "# Define schema of pyspark dataframe\r\n",
        "row_num = len(imgs)\r\n",
        "col_num = len(imgs[0])\r\n",
        "imgs_np = np.array(imgs)"
      ],
      "execution_count": null,
      "outputs": []
    },
    {
      "cell_type": "code",
      "metadata": {
        "colab": {
          "base_uri": "https://localhost:8080/"
        },
        "id": "4qGRJSuyEECr",
        "outputId": "a8496ec2-cb5b-490e-cdba-dc42353400b8"
      },
      "source": [
        "print(imgs_np.shape)\r\n",
        "print(imgs_np)"
      ],
      "execution_count": null,
      "outputs": [
        {
          "output_type": "stream",
          "text": [
            "(100, 1023400)\n",
            "[[0 0 0 ... 0 0 0]\n",
            " [0 0 0 ... 0 0 0]\n",
            " [0 0 0 ... 0 0 0]\n",
            " ...\n",
            " [0 0 0 ... 0 0 0]\n",
            " [0 0 0 ... 0 0 0]\n",
            " [0 0 0 ... 0 0 0]]\n"
          ],
          "name": "stdout"
        }
      ]
    },
    {
      "cell_type": "code",
      "metadata": {
        "colab": {
          "base_uri": "https://localhost:8080/"
        },
        "id": "qerQTWDAkCCh",
        "outputId": "06ecd960-b024-4055-fd07-fee565827fc1"
      },
      "source": [
        "# Perform PCA\r\n",
        "from sklearn.decomposition import PCA\r\n",
        "variance = 0.98\r\n",
        "pca = PCA(variance)\r\n",
        "pca.fit(imgs_np)\r\n",
        "print(\"Number of components after PCA 0.98 = \" + str(pca.n_components_))\r\n",
        "\r\n",
        "# Transform dataframe as per PCA\r\n",
        "pca_data = pca.transform(imgs_np)\r\n",
        "print(\"Dimension of our data after PCA = \" + str(pca_data.shape))"
      ],
      "execution_count": null,
      "outputs": [
        {
          "output_type": "stream",
          "text": [
            "Number of components after PCA 0.98 = 2\n",
            "Dimension of our data after PCA = (100, 2)\n"
          ],
          "name": "stdout"
        }
      ]
    },
    {
      "cell_type": "code",
      "metadata": {
        "colab": {
          "base_uri": "https://localhost:8080/"
        },
        "id": "OPWJLzH9nO3e",
        "outputId": "13b958c4-eacb-43fc-9db4-618a98774ae3"
      },
      "source": [
        "pca_df = pd.DataFrame(pca_data)\r\n",
        "print(pca_df.shape)"
      ],
      "execution_count": null,
      "outputs": [
        {
          "output_type": "stream",
          "text": [
            "(100, 2)\n"
          ],
          "name": "stdout"
        }
      ]
    },
    {
      "cell_type": "code",
      "metadata": {
        "id": "3vUKEzeBkCQv"
      },
      "source": [
        "# Running K means cluster\r\n",
        "import matplotlib.pyplot as plt\r\n",
        "%matplotlib inline \r\n",
        "from sklearn.cluster import KMeans\r\n",
        "distortions = []\r\n",
        "K = range(1,10)\r\n",
        "for k in K:\r\n",
        "    kmeanModel = KMeans(n_clusters=k)\r\n",
        "    kmeanModel.fit(pca_df)\r\n",
        "    distortions.append(kmeanModel.inertia_)\r\n"
      ],
      "execution_count": null,
      "outputs": []
    },
    {
      "cell_type": "code",
      "metadata": {
        "colab": {
          "base_uri": "https://localhost:8080/",
          "height": 513
        },
        "id": "aJaCmB2PkCXs",
        "outputId": "deca40fd-7650-4213-e0df-c157c4d0a21c"
      },
      "source": [
        "# Plot PCA graph\r\n",
        "plt.figure(figsize=(16,8))\r\n",
        "plt.plot(K, distortions, 'bx-')\r\n",
        "plt.xlabel('k')\r\n",
        "plt.ylabel('Distortion')\r\n",
        "plt.title('The Elbow Method showing the optimal k')\r\n",
        "plt.show()"
      ],
      "execution_count": null,
      "outputs": [
        {
          "output_type": "display_data",
          "data": {
            "image/png": "[encoded data removed]",
            "text/plain": [
              "<Figure size 1152x576 with 1 Axes>"
            ]
          },
          "metadata": {
            "tags": [],
            "needs_background": "light"
          }
        }
      ]
    },
    {
      "cell_type": "code",
      "metadata": {
        "colab": {
          "base_uri": "https://localhost:8080/",
          "height": 513
        },
        "id": "jzjAlFsInzsA",
        "outputId": "3c188cda-67d7-421e-e10a-0638ff857242"
      },
      "source": [
        "# Final Clustering\r\n",
        "kmeanModel = KMeans(n_clusters=2)\r\n",
        "kmeanModel.fit(pca_df)\r\n",
        "\r\n",
        "# Plot clustering\r\n",
        "pca_df['k_means']=kmeanModel.predict(pca_df)\r\n",
        "plt.figure(figsize=(16,8))\r\n",
        "plt.scatter(pca_df[0], pca_df[1], c=pca_df['k_means'],cmap=plt.cm.Set1)\r\n",
        "plt.xlabel('Feature 1')\r\n",
        "plt.ylabel('Feature 2')\r\n",
        "plt.title('Distribution of classes')\r\n",
        "plt.show()"
      ],
      "execution_count": null,
      "outputs": [
        {
          "output_type": "display_data",
          "data": {
            "image/png": "[encoded data removed]",
            "text/plain": [
              "<Figure size 1152x576 with 1 Axes>"
            ]
          },
          "metadata": {
            "tags": [],
            "needs_background": "light"
          }
        }
      ]
    },
    {
      "cell_type": "code",
      "metadata": {
        "id": "6k09piderA1Q"
      },
      "source": [
        ""
      ],
      "execution_count": null,
      "outputs": []
    },
    {
      "cell_type": "markdown",
      "metadata": {
        "id": "hucaDcnd_KKc"
      },
      "source": [
        "# **Running Code for 110Kt dataset**"
      ]
    },
    {
      "cell_type": "code",
      "metadata": {
        "colab": {
          "base_uri": "https://localhost:8080/"
        },
        "id": "YULJjA9Q_epq",
        "outputId": "e4754a21-0f59-45e9-fefd-6244544c2880"
      },
      "source": [
        "from google.colab import drive\r\n",
        "drive.mount('/content/drive')\r\n",
        "\r\n",
        "import os\r\n",
        "os.chdir('/content/drive/MyDrive/')\r\n",
        "\r\n",
        "import cv2\r\n",
        "from os import listdir\r\n",
        "from PIL import Image as PImage\r\n",
        "import numpy as np\r\n",
        "import pandas as pd\r\n",
        "from sklearn.decomposition import PCA\r\n",
        "\r\n",
        "\r\n",
        "def loadImages(path,image_num):\r\n",
        "    # return array of images\r\n",
        "    imagesList = listdir(path)\r\n",
        "    loadedImages = []\r\n",
        "    count=0\r\n",
        "    for image in imagesList[0:min(len(imagesList),image_num)]:\r\n",
        "      img = PImage.open(path +'/'+ image)\r\n",
        "      if count == 0:\r\n",
        "        print(img.size)\r\n",
        "      img = img.resize((int(img.size[1]/factor), int(img.size[0]/factor)))\r\n",
        "      #img.thumbnail(maxsize)\r\n",
        "      img = np.array(img)\r\n",
        "      if count == 0:\r\n",
        "        print(img.shape)\r\n",
        "      img = img.reshape(img.shape[0]*img.shape[1])\r\n",
        "      loadedImages.append(img)\r\n",
        "      count = count + 1\r\n",
        "\r\n",
        "    return loadedImages\r\n",
        "\r\n",
        "\r\n",
        "image_num = 100\r\n",
        "factor = 2\r\n",
        "path = \"/content/drive/MyDrive/Pixxel_Work/110Kt_images/\"\r\n",
        "\r\n",
        "# your images in an array\r\n",
        "imgs = loadImages(path, image_num)\r\n",
        "\r\n",
        "# Test the output\r\n",
        "sum=0\r\n",
        "print(len(imgs[0]))\r\n",
        "for i in range(len(imgs[0])):\r\n",
        "  sum=sum+imgs[0][i]\r\n",
        "print(sum)\r\n",
        "\r\n",
        "# Create numpy array \r\n",
        "imgs_np = np.array(imgs)\r\n",
        "print(imgs_np.shape)\r\n",
        "print(imgs_np)"
      ],
      "execution_count": 4,
      "outputs": [
        {
          "output_type": "stream",
          "text": [
            "Drive already mounted at /content/drive; to attempt to forcibly remount, call drive.mount(\"/content/drive\", force_remount=True).\n",
            "(1061, 3521)\n",
            "(530, 1760)\n",
            "932800\n",
            "316262\n",
            "(100, 932800)\n",
            "[[0 0 0 ... 0 0 0]\n",
            " [0 0 0 ... 0 0 0]\n",
            " [0 0 0 ... 0 0 0]\n",
            " ...\n",
            " [0 0 0 ... 0 0 0]\n",
            " [0 0 0 ... 0 0 0]\n",
            " [0 0 0 ... 0 0 0]]\n"
          ],
          "name": "stdout"
        }
      ]
    },
    {
      "cell_type": "code",
      "metadata": {
        "colab": {
          "base_uri": "https://localhost:8080/"
        },
        "id": "dTuNPI1ZAhlx",
        "outputId": "91ac6d8d-6bf8-48a0-9ce4-73552b314e06"
      },
      "source": [
        "# Perform PCA\r\n",
        "from sklearn.decomposition import PCA\r\n",
        "variance = 0.98\r\n",
        "pca = PCA(variance)\r\n",
        "pca.fit(imgs_np)\r\n",
        "print(\"Number of components after PCA 0.98 = \" + str(pca.n_components_))\r\n",
        "\r\n",
        "# Transform dataframe as per PCA\r\n",
        "pca_data = pca.transform(imgs_np)\r\n",
        "print(\"Dimension of our data after PCA = \" + str(pca_data.shape))\r\n",
        "\r\n",
        "pca_df = pd.DataFrame(pca_data)\r\n",
        "print(pca_df.shape)"
      ],
      "execution_count": 5,
      "outputs": [
        {
          "output_type": "stream",
          "text": [
            "Number of components after PCA 0.98 = 1\n",
            "Dimension of our data after PCA = (100, 1)\n",
            "(100, 1)\n"
          ],
          "name": "stdout"
        }
      ]
    },
    {
      "cell_type": "code",
      "metadata": {
        "colab": {
          "base_uri": "https://localhost:8080/",
          "height": 513
        },
        "id": "yLl4E3-IAixO",
        "outputId": "260b694b-81a2-4434-b412-5c5d23baec35"
      },
      "source": [
        "# Running K means cluster\r\n",
        "import matplotlib.pyplot as plt\r\n",
        "%matplotlib inline \r\n",
        "from sklearn.cluster import KMeans\r\n",
        "distortions = []\r\n",
        "K = range(1,10)\r\n",
        "for k in K:\r\n",
        "    kmeanModel = KMeans(n_clusters=k)\r\n",
        "    kmeanModel.fit(pca_df)\r\n",
        "    distortions.append(kmeanModel.inertia_)\r\n",
        "\r\n",
        "# Plot PCA graph\r\n",
        "plt.figure(figsize=(16,8))\r\n",
        "plt.plot(K, distortions, 'bx-')\r\n",
        "plt.xlabel('k')\r\n",
        "plt.ylabel('Distortion')\r\n",
        "plt.title('The Elbow Method showing the optimal k')\r\n",
        "plt.show()"
      ],
      "execution_count": 8,
      "outputs": [
        {
          "output_type": "display_data",
          "data": {
            "image/png": "[encoded data removed]",
            "text/plain": [
              "<Figure size 1152x576 with 1 Axes>"
            ]
          },
          "metadata": {
            "tags": [],
            "needs_background": "light"
          }
        }
      ]
    },
    {
      "cell_type": "code",
      "metadata": {
        "id": "kGFDHBFVDHcY"
      },
      "source": [
        "# Final Clustering\r\n",
        "kmeanModel = KMeans(n_clusters=2)\r\n",
        "kmeanModel.fit(pca_df)\r\n",
        "\r\n",
        "print(pca_df.head(5))\r\n",
        "# Plot clustering\r\n",
        "pca_df['k_means']=kmeanModel.predict(pca_df)\r\n",
        "plt.figure(figsize=(16,8))\r\n",
        "plt.scatter(pca_df[0], c=pca_df['k_means'])\r\n",
        "plt.xlabel('Feature 1')\r\n",
        "plt.ylabel('Feature 2')\r\n",
        "plt.title('Distribution of classes')\r\n",
        "plt.show()"
      ],
      "execution_count": null,
      "outputs": []
    },
    {
      "cell_type": "markdown",
      "metadata": {
        "id": "9rnQMmGwCYjC"
      },
      "source": [
        "# Running Code for 110PZ dataset"
      ]
    },
    {
      "cell_type": "code",
      "metadata": {
        "colab": {
          "base_uri": "https://localhost:8080/"
        },
        "id": "pigwc1PcCh15",
        "outputId": "ee92d064-99cb-44dd-d0e1-7bb46ac97b68"
      },
      "source": [
        "from google.colab import drive\r\n",
        "drive.mount('/content/drive')\r\n",
        "\r\n",
        "import os\r\n",
        "os.chdir('/content/drive/MyDrive/')\r\n",
        "\r\n",
        "import cv2\r\n",
        "from os import listdir\r\n",
        "from PIL import Image as PImage\r\n",
        "import numpy as np\r\n",
        "import pandas as pd\r\n",
        "from sklearn.decomposition import PCA\r\n",
        "\r\n",
        "\r\n",
        "def loadImages(path,image_num):\r\n",
        "    # return array of images\r\n",
        "    imagesList = listdir(path)\r\n",
        "    loadedImages = []\r\n",
        "    count=0\r\n",
        "    for image in imagesList[0:min(len(imagesList),image_num)]:\r\n",
        "      img = PImage.open(path +'/'+ image)\r\n",
        "      if count == 0:\r\n",
        "        print(img.size)\r\n",
        "      img = img.resize((int(img.size[1]/factor), int(img.size[0]/factor)))\r\n",
        "      #img.thumbnail(maxsize)\r\n",
        "      img = np.array(img)\r\n",
        "      if count == 0:\r\n",
        "        print(img.shape)\r\n",
        "      img = img.reshape(img.shape[0]*img.shape[1])\r\n",
        "      loadedImages.append(img)\r\n",
        "      count = count + 1\r\n",
        "\r\n",
        "    return loadedImages\r\n",
        "\r\n",
        "\r\n",
        "image_num = 100\r\n",
        "factor = 2\r\n",
        "path = \"/content/drive/MyDrive/Pixxel_Work/110Kt_images/\"\r\n",
        "\r\n",
        "# your images in an array\r\n",
        "imgs = loadImages(path, image_num)\r\n",
        "\r\n",
        "# Test the output\r\n",
        "sum=0\r\n",
        "print(len(imgs[0]))\r\n",
        "for i in range(len(imgs[0])):\r\n",
        "  sum=sum+imgs[0][i]\r\n",
        "print(sum)\r\n",
        "\r\n",
        "# Create numpy array \r\n",
        "imgs_np = np.array(imgs)\r\n",
        "print(imgs_np.shape)\r\n",
        "print(imgs_np)"
      ],
      "execution_count": 12,
      "outputs": [
        {
          "output_type": "stream",
          "text": [
            "Drive already mounted at /content/drive; to attempt to forcibly remount, call drive.mount(\"/content/drive\", force_remount=True).\n",
            "(1061, 3521)\n",
            "(530, 1760)\n",
            "932800\n",
            "316262\n",
            "(100, 932800)\n",
            "[[0 0 0 ... 0 0 0]\n",
            " [0 0 0 ... 0 0 0]\n",
            " [0 0 0 ... 0 0 0]\n",
            " ...\n",
            " [0 0 0 ... 0 0 0]\n",
            " [0 0 0 ... 0 0 0]\n",
            " [0 0 0 ... 0 0 0]]\n"
          ],
          "name": "stdout"
        }
      ]
    },
    {
      "cell_type": "code",
      "metadata": {
        "colab": {
          "base_uri": "https://localhost:8080/"
        },
        "id": "t6D8vPA8Ch_w",
        "outputId": "1897c7fc-2890-4db1-fba1-f48d664772ff"
      },
      "source": [
        "# Perform PCA\r\n",
        "from sklearn.decomposition import PCA\r\n",
        "variance = 0.98\r\n",
        "pca = PCA(variance)\r\n",
        "pca.fit(imgs_np)\r\n",
        "print(\"Number of components after PCA 0.98 = \" + str(pca.n_components_))\r\n",
        "\r\n",
        "# Transform dataframe as per PCA\r\n",
        "pca_data = pca.transform(imgs_np)\r\n",
        "print(\"Dimension of our data after PCA = \" + str(pca_data.shape))\r\n",
        "\r\n",
        "pca_df = pd.DataFrame(pca_data)\r\n",
        "print(pca_df.shape)"
      ],
      "execution_count": 13,
      "outputs": [
        {
          "output_type": "stream",
          "text": [
            "Number of components after PCA 0.98 = 1\n",
            "Dimension of our data after PCA = (100, 1)\n",
            "(100, 1)\n"
          ],
          "name": "stdout"
        }
      ]
    },
    {
      "cell_type": "code",
      "metadata": {
        "colab": {
          "base_uri": "https://localhost:8080/",
          "height": 513
        },
        "id": "3atj-RI8CiC6",
        "outputId": "9300cb90-4583-4084-eeaa-11ae217f4a42"
      },
      "source": [
        "# Running K means cluster\r\n",
        "import matplotlib.pyplot as plt\r\n",
        "%matplotlib inline \r\n",
        "from sklearn.cluster import KMeans\r\n",
        "distortions = []\r\n",
        "K = range(1,10)\r\n",
        "for k in K:\r\n",
        "    kmeanModel = KMeans(n_clusters=k)\r\n",
        "    kmeanModel.fit(pca_df)\r\n",
        "    distortions.append(kmeanModel.inertia_)\r\n",
        "\r\n",
        "# Plot PCA graph\r\n",
        "plt.figure(figsize=(16,8))\r\n",
        "plt.plot(K, distortions, 'bx-')\r\n",
        "plt.xlabel('k')\r\n",
        "plt.ylabel('Distortion')\r\n",
        "plt.title('The Elbow Method showing the optimal k')\r\n",
        "plt.show()"
      ],
      "execution_count": 14,
      "outputs": [
        {
          "output_type": "display_data",
          "data": {
            "image/png": "[encoded data removed]",
            "text/plain": [
              "<Figure size 1152x576 with 1 Axes>"
            ]
          },
          "metadata": {
            "tags": [],
            "needs_background": "light"
          }
        }
      ]
    },
    {
      "cell_type": "code",
      "metadata": {
        "id": "W5FCipl5CiMz"
      },
      "source": [
        "# Final Clustering\r\n",
        "kmeanModel = KMeans(n_clusters=2)\r\n",
        "kmeanModel.fit(pca_df)\r\n",
        "\r\n",
        "# Plot clustering\r\n",
        "pca_df['k_means']=kmeanModel.predict(pca_df)\r\n",
        "plt.figure(figsize=(16,8))\r\n",
        "plt.scatter(pca_df[0], pca_df[1], c=pca_df['k_means'],cmap=plt.cm.Set1)\r\n",
        "plt.xlabel('Feature 1')\r\n",
        "plt.ylabel('Feature 2')\r\n",
        "plt.title('Distribution of classes')\r\n",
        "plt.show()"
      ],
      "execution_count": null,
      "outputs": []
    },
    {
      "cell_type": "code",
      "metadata": {
        "id": "X9sZyxULEVSR"
      },
      "source": [
        "#df = pd.DataFrame(imgs_np)\r\n",
        "#rdd = spark.sparkContext.parallelize(imgs_np)"
      ],
      "execution_count": null,
      "outputs": []
    },
    {
      "cell_type": "code",
      "metadata": {
        "id": "Z6lLGcQThDvM"
      },
      "source": [
        "#spark_df = spark.createDataFrame(df)"
      ],
      "execution_count": null,
      "outputs": []
    }
  ]
}